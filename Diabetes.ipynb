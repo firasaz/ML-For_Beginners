{
  "nbformat": 4,
  "nbformat_minor": 0,
  "metadata": {
    "colab": {
      "provenance": [],
      "toc_visible": true,
      "authorship_tag": "ABX9TyNJWXR85lkqt9ghWrSUgbwF",
      "include_colab_link": true
    },
    "kernelspec": {
      "name": "python3",
      "display_name": "Python 3"
    },
    "language_info": {
      "name": "python"
    }
  },
  "cells": [
    {
      "cell_type": "markdown",
      "metadata": {
        "id": "view-in-github",
        "colab_type": "text"
      },
      "source": [
        "<a href=\"https://colab.research.google.com/github/firasaz/ML-For_Beginners/blob/main/ML_For_Beginners.ipynb\" target=\"_parent\"><img src=\"https://colab.research.google.com/assets/colab-badge.svg\" alt=\"Open In Colab\"/></a>"
      ]
    },
    {
      "cell_type": "markdown",
      "source": [
        "# Learning Regression 101"
      ],
      "metadata": {
        "id": "qrEB-OVAwHMl"
      }
    },
    {
      "cell_type": "markdown",
      "source": [
        "## import necessary libraries."
      ],
      "metadata": {
        "id": "W7es2YADxWiB"
      }
    },
    {
      "cell_type": "code",
      "source": [
        "import matplotlib.pyplot as plt\n",
        "import numpy as np\n",
        "from sklearn import datasets, linear_model, model_selection"
      ],
      "metadata": {
        "id": "XRXklqofxkNS"
      },
      "execution_count": 1,
      "outputs": []
    },
    {
      "cell_type": "markdown",
      "source": [
        "## Load and sample a portion of the dataset"
      ],
      "metadata": {
        "id": "912L7dBcx09H"
      }
    },
    {
      "cell_type": "code",
      "source": [
        "X, y = datasets.load_diabetes(return_X_y=True)\n",
        "\n",
        "print(X.shape) # returns (<rows>, <columns>)\n",
        "\n",
        "X_portion = X[:, 2] # take the 3rd column's, aka feature's, value from each row\n",
        "X_portion = X_portion.reshape(-1,1)"
      ],
      "metadata": {
        "colab": {
          "base_uri": "https://localhost:8080/"
        },
        "id": "yW9cgHd2x83q",
        "outputId": "0e330d8e-0bbe-447e-fb38-12b960c5e9ec"
      },
      "execution_count": 2,
      "outputs": [
        {
          "output_type": "stream",
          "name": "stdout",
          "text": [
            "(442, 10)\n"
          ]
        }
      ]
    },
    {
      "cell_type": "markdown",
      "source": [
        "### Understanding the imported data:"
      ],
      "metadata": {
        "id": "0d5LoVED0eQ4"
      }
    },
    {
      "cell_type": "markdown",
      "source": [
        "#### loading the dataset without passing parameter values(default values):\n",
        "> default values:\n",
        "- return_X_y=False: returns a dictionary where you can access different elements of the dataset using the key.\n",
        "- as_frame=False: returns the data as numpy arrays.\n",
        "- scaled=True: feature variables are mean centered using standard deviation times square root of n_samples, in this case 442 rows/samples."
      ],
      "metadata": {
        "id": "JM1cow0c1NHz"
      }
    },
    {
      "cell_type": "code",
      "source": [
        "dataset1 = datasets.load_diabetes()\n",
        "\n",
        "print(dataset1.keys())\n",
        "print()\n",
        "print(f\"Data:\\n{dataset1['data'][:3]}\") # 1st three rows of the data\n",
        "print(f\"Target:\\n{dataset1['target'][:3]}\")"
      ],
      "metadata": {
        "colab": {
          "base_uri": "https://localhost:8080/"
        },
        "id": "E_5onfFwnwwe",
        "outputId": "0fa8e3a8-95a8-4a08-d440-87d8d0fda33e"
      },
      "execution_count": 3,
      "outputs": [
        {
          "output_type": "stream",
          "name": "stdout",
          "text": [
            "dict_keys(['data', 'target', 'frame', 'DESCR', 'feature_names', 'data_filename', 'target_filename', 'data_module'])\n",
            "\n",
            "Data:\n",
            "[[ 0.03807591  0.05068012  0.06169621  0.02187239 -0.0442235  -0.03482076\n",
            "  -0.04340085 -0.00259226  0.01990749 -0.01764613]\n",
            " [-0.00188202 -0.04464164 -0.05147406 -0.02632753 -0.00844872 -0.01916334\n",
            "   0.07441156 -0.03949338 -0.06833155 -0.09220405]\n",
            " [ 0.08529891  0.05068012  0.04445121 -0.00567042 -0.04559945 -0.03419447\n",
            "  -0.03235593 -0.00259226  0.00286131 -0.02593034]]\n",
            "Target:\n",
            "[151.  75. 141.]\n"
          ]
        }
      ]
    },
    {
      "cell_type": "markdown",
      "source": [
        "#### loading the dataset with argument 'return_X_y=True' to seprate the data from the target.\n",
        "> ok so i'm trying to understand the data below. here's my notes:\n",
        "- return_X_y=True: argument returns a tuple containing the data and the target column from the data into a separate numpy array.\n",
        "  - the data element returns a 2D array, meaning a numpy array containing a numpy array, containing the rows of the dataset as numpy arrays.\n",
        "  - the target element of the tuple returns a 1D array, meaning one array with n elements."
      ],
      "metadata": {
        "id": "USqpnpEph0Nd"
      }
    },
    {
      "cell_type": "code",
      "source": [
        "dataset2 = datasets.load_diabetes(return_X_y=True)\n",
        "\n",
        "print(f'1st element of the loaded dataset length(rows):\\n\\t{len(dataset2[0])}')\n",
        "print(f'1st element of the 1st element of the loaded dataset length(1st row values):\\n\\t{len(dataset2[0][0])}')\n",
        "print(f'2nd element of the loaded dataset length(target):\\n\\t{len(dataset2[1])}')\n",
        "print()\n",
        "print(dataset2[0][:3]) # first 3 rows of the data\n",
        "print(dataset2[1][:3]) # first 3 values of the target"
      ],
      "metadata": {
        "colab": {
          "base_uri": "https://localhost:8080/"
        },
        "id": "ErTmHaJ20bGh",
        "outputId": "99f5248b-472d-49b8-c0c2-401ae6b78f52"
      },
      "execution_count": 4,
      "outputs": [
        {
          "output_type": "stream",
          "name": "stdout",
          "text": [
            "1st element of the loaded dataset length(rows):\n",
            "\t442\n",
            "1st element of the 1st element of the loaded dataset length(1st row values):\n",
            "\t10\n",
            "2nd element of the loaded dataset length(target):\n",
            "\t442\n",
            "\n",
            "[[ 0.03807591  0.05068012  0.06169621  0.02187239 -0.0442235  -0.03482076\n",
            "  -0.04340085 -0.00259226  0.01990749 -0.01764613]\n",
            " [-0.00188202 -0.04464164 -0.05147406 -0.02632753 -0.00844872 -0.01916334\n",
            "   0.07441156 -0.03949338 -0.06833155 -0.09220405]\n",
            " [ 0.08529891  0.05068012  0.04445121 -0.00567042 -0.04559945 -0.03419447\n",
            "  -0.03235593 -0.00259226  0.00286131 -0.02593034]]\n",
            "[151.  75. 141.]\n"
          ]
        }
      ]
    },
    {
      "cell_type": "markdown",
      "source": [
        "#### loading the dataset with argument 'as_dframe=True':\n",
        "> dataset is returned as a panda dataframe. yay! "
      ],
      "metadata": {
        "id": "xpHend_ElKaX"
      }
    },
    {
      "cell_type": "code",
      "source": [
        "dataset3 = datasets.load_diabetes(as_frame=True)\n",
        "\n",
        "print(f\"Data:\\n{dataset3.data.head()[['age','sex','bmi','bp','s1']]}\")\n",
        "print(f'Target:\\n{dataset3.target.head()}')\n",
        "# print(dataset3.data)"
      ],
      "metadata": {
        "colab": {
          "base_uri": "https://localhost:8080/"
        },
        "id": "ta-YIHfuldL3",
        "outputId": "0dee780d-6e34-474a-fc8d-7a9df5bf65e9"
      },
      "execution_count": 5,
      "outputs": [
        {
          "output_type": "stream",
          "name": "stdout",
          "text": [
            "Data:\n",
            "        age       sex       bmi        bp        s1\n",
            "0  0.038076  0.050680  0.061696  0.021872 -0.044223\n",
            "1 -0.001882 -0.044642 -0.051474 -0.026328 -0.008449\n",
            "2  0.085299  0.050680  0.044451 -0.005670 -0.045599\n",
            "3 -0.089063 -0.044642 -0.011595 -0.036656  0.012191\n",
            "4  0.005383 -0.044642 -0.036385  0.021872  0.003935\n",
            "Target:\n",
            "0    151.0\n",
            "1     75.0\n",
            "2    141.0\n",
            "3    206.0\n",
            "4    135.0\n",
            "Name: target, dtype: float64\n"
          ]
        }
      ]
    },
    {
      "cell_type": "markdown",
      "source": [
        "## split the data into training and testing parts then train the regression model imported from sklearn"
      ],
      "metadata": {
        "id": "yRPaWKi8y6S8"
      }
    },
    {
      "cell_type": "code",
      "source": [
        "# train the model on 67% of the dataset and test it against 33% of the data.\n",
        "X_train, X_test, y_train, y_test = model_selection.train_test_split(X_portion, y, test_size=0.33)\n",
        "\n",
        "model = linear_model.LinearRegression() # import the Linear Regression model\n",
        "model.fit(X_train, y_train) # train the imported model\n",
        "\n",
        "y_pred = model.predict(X_test) # save the predictions of the trained model in 'y_pred'\n",
        "y_pred = [round(x,2) for x in y_pred] # store the predictions with 2 decimal spaces"
      ],
      "metadata": {
        "id": "YFi9Y-YlzO2g"
      },
      "execution_count": 6,
      "outputs": []
    },
    {
      "cell_type": "code",
      "source": [
        "print(len(y_train))\n",
        "print(len(y_test))\n",
        "print()\n",
        "print(len(X_train))\n",
        "print(len(X_test))\n",
        "\n",
        "print(y_pred[:5])\n",
        "print(y_test[:5])"
      ],
      "metadata": {
        "colab": {
          "base_uri": "https://localhost:8080/"
        },
        "id": "OqzVcbyihr21",
        "outputId": "b89db0f1-dcab-4d05-cee8-6c7b7d74694d"
      },
      "execution_count": 7,
      "outputs": [
        {
          "output_type": "stream",
          "name": "stdout",
          "text": [
            "296\n",
            "146\n",
            "\n",
            "296\n",
            "146\n",
            "[144.74, 214.0, 122.66, 270.21, 169.83]\n",
            "[257.  95.  84. 341.  69.]\n"
          ]
        }
      ]
    },
    {
      "cell_type": "code",
      "source": [
        "y_pred = [round(x,2) for x in y_pred]\n",
        "print(y_pred[:5])"
      ],
      "metadata": {
        "colab": {
          "base_uri": "https://localhost:8080/"
        },
        "id": "-_IkAqeXIR9K",
        "outputId": "a669da24-fbca-4321-bfc2-016f65d117da"
      },
      "execution_count": 8,
      "outputs": [
        {
          "output_type": "stream",
          "name": "stdout",
          "text": [
            "[144.74, 214.0, 122.66, 270.21, 169.83]\n"
          ]
        }
      ]
    },
    {
      "cell_type": "markdown",
      "source": [
        "## plot the data for visualization"
      ],
      "metadata": {
        "id": "yNpuHAfH0OzR"
      }
    },
    {
      "cell_type": "code",
      "source": [
        "plt.scatter(X_test, y_test, color='black')\n",
        "plt.plot(X_test, y_pred, color='blue', linewidth=3)\n",
        "plt.xlabel('Scaled BMIs')\n",
        "plt.ylabel('Disease Progression')\n",
        "plt.title('A Graph Plot Showing Diabetes Progression Against BMI')\n",
        "plt.show()"
      ],
      "metadata": {
        "colab": {
          "base_uri": "https://localhost:8080/",
          "height": 472
        },
        "id": "_oZ17xs_0UYW",
        "outputId": "d0d7fe2f-2f50-47e0-a4b3-70cd5bcacc97"
      },
      "execution_count": 9,
      "outputs": [
        {
          "output_type": "display_data",
          "data": {
            "text/plain": [
              "<Figure size 640x480 with 1 Axes>"
            ],
            "image/png": "[encoded data removed]"
          },
          "metadata": {}
        }
      ]
    }
  ]
}
