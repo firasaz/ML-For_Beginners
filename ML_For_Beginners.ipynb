{
  "nbformat": 4,
  "nbformat_minor": 0,
  "metadata": {
    "colab": {
      "provenance": [],
      "authorship_tag": "ABX9TyNkOZu8iEeZ2Ry8ZJeCcOh3",
      "include_colab_link": true
    },
    "kernelspec": {
      "name": "python3",
      "display_name": "Python 3"
    },
    "language_info": {
      "name": "python"
    }
  },
  "cells": [
    {
      "cell_type": "markdown",
      "metadata": {
        "id": "view-in-github",
        "colab_type": "text"
      },
      "source": [
        "<a href=\"https://colab.research.google.com/github/firasaz/ML-For_Beginners/blob/main/ML_For_Beginners.ipynb\" target=\"_parent\"><img src=\"https://colab.research.google.com/assets/colab-badge.svg\" alt=\"Open In Colab\"/></a>"
      ]
    },
    {
      "cell_type": "markdown",
      "source": [
        "# Learning Regression 101"
      ],
      "metadata": {
        "id": "qrEB-OVAwHMl"
      }
    },
    {
      "cell_type": "markdown",
      "source": [
        "## import necessary libraries."
      ],
      "metadata": {
        "id": "W7es2YADxWiB"
      }
    },
    {
      "cell_type": "code",
      "source": [
        "import matplotlib.pyplot as plt\n",
        "import numpy as np\n",
        "from sklearn import datasets, linear_model, model_selection"
      ],
      "metadata": {
        "id": "XRXklqofxkNS"
      },
      "execution_count": 1,
      "outputs": []
    },
    {
      "cell_type": "markdown",
      "source": [
        "##load and sample a portion of the dataset"
      ],
      "metadata": {
        "id": "912L7dBcx09H"
      }
    },
    {
      "cell_type": "code",
      "source": [
        "X, y = datasets.load_diabetes(return_X_y=True)\n",
        "dataset1 = datasets.load_diabetes(return_X_y=True)\n",
        "\n",
        "print(X.shape) # returns (<rows>, <columns>)\n",
        "\n",
        "X_portion = X[:, 2] # take the 3rd column's, aka feature's, value from each row\n",
        "X_portion = X_portion.reshape(-1,1)"
      ],
      "metadata": {
        "colab": {
          "base_uri": "https://localhost:8080/"
        },
        "id": "yW9cgHd2x83q",
        "outputId": "282e29cd-46c0-4ea7-de88-d3ebaafd028f"
      },
      "execution_count": 64,
      "outputs": [
        {
          "output_type": "stream",
          "name": "stdout",
          "text": [
            "(442, 10)\n"
          ]
        }
      ]
    },
    {
      "cell_type": "markdown",
      "source": [
        "### Understanding the imported data:\n",
        "loading the dataset with argument 'return_X_y=True' to seprate the data from the target."
      ],
      "metadata": {
        "id": "0d5LoVED0eQ4"
      }
    },
    {
      "cell_type": "code",
      "source": [
        "print(f'1st element of the loaded dataset length(rows):\\n\\t{len(dataset1[0])}')\n",
        "print(f'1st element of the 1st element of the loaded dataset length(1st row values):\\n\\t{len(dataset1[0][0])}')\n",
        "print(f'2nd element of the loaded dataset length(target):\\n\\t{len(dataset1[1])}')\n",
        "print()\n",
        "print(dataset1[0][:3]) # first 3 rows of the data\n",
        "print(dataset1[1][:3]) # first 3 values of the target"
      ],
      "metadata": {
        "colab": {
          "base_uri": "https://localhost:8080/"
        },
        "id": "ErTmHaJ20bGh",
        "outputId": "6f9fa1b0-662b-4c96-894b-1826c975161b"
      },
      "execution_count": 65,
      "outputs": [
        {
          "output_type": "stream",
          "name": "stdout",
          "text": [
            "1st element of the loaded dataset length(rows):\n",
            "\t442\n",
            "1st element of the 1st element of the loaded dataset length(1st row values):\n",
            "\t10\n",
            "2nd element of the loaded dataset length(target):\n",
            "\t442\n",
            "\n",
            "[[ 0.03807591  0.05068012  0.06169621  0.02187239 -0.0442235  -0.03482076\n",
            "  -0.04340085 -0.00259226  0.01990749 -0.01764613]\n",
            " [-0.00188202 -0.04464164 -0.05147406 -0.02632753 -0.00844872 -0.01916334\n",
            "   0.07441156 -0.03949338 -0.06833155 -0.09220405]\n",
            " [ 0.08529891  0.05068012  0.04445121 -0.00567042 -0.04559945 -0.03419447\n",
            "  -0.03235593 -0.00259226  0.00286131 -0.02593034]]\n",
            "[151.  75. 141.]\n"
          ]
        }
      ]
    },
    {
      "cell_type": "markdown",
      "source": [
        "ok so i'm trying to understand the data above. here's my notes:\n",
        "- return_X_y=True: argument returns a tuple containing the data and the target column from the data into a separate numpy array.\n",
        "  - the data element returns a 2D array, meaning a numpy array containing a numpy array, containing the rows of the dataset as numpy arrays.\n",
        "  - the target element of the tuple returns a 1D array, meaning one array with n elements."
      ],
      "metadata": {
        "id": "F3roCjHwphYx"
      }
    },
    {
      "cell_type": "markdown",
      "source": [
        "### Loading the dataset without passing parameter values(default values):"
      ],
      "metadata": {
        "id": "JM1cow0c1NHz"
      }
    },
    {
      "cell_type": "code",
      "source": [
        "dataset2 = datasets.load_diabetes()\n",
        "\n",
        "print(dataset2.keys())\n",
        "print()\n",
        "print(f\"Data:\\n{dataset2['data'][:3]}\") # 1st three rows of the data\n",
        "print(f\"Target:\\n{dataset2['target'][:3]}\")"
      ],
      "metadata": {
        "colab": {
          "base_uri": "https://localhost:8080/"
        },
        "id": "E_5onfFwnwwe",
        "outputId": "a648cc2d-ea6d-4a80-a03e-aed180767b2b"
      },
      "execution_count": 71,
      "outputs": [
        {
          "output_type": "stream",
          "name": "stdout",
          "text": [
            "dict_keys(['data', 'target', 'frame', 'DESCR', 'feature_names', 'data_filename', 'target_filename', 'data_module'])\n",
            "\n",
            "Data:\n",
            "[[ 0.03807591  0.05068012  0.06169621  0.02187239 -0.0442235  -0.03482076\n",
            "  -0.04340085 -0.00259226  0.01990749 -0.01764613]\n",
            " [-0.00188202 -0.04464164 -0.05147406 -0.02632753 -0.00844872 -0.01916334\n",
            "   0.07441156 -0.03949338 -0.06833155 -0.09220405]\n",
            " [ 0.08529891  0.05068012  0.04445121 -0.00567042 -0.04559945 -0.03419447\n",
            "  -0.03235593 -0.00259226  0.00286131 -0.02593034]]\n",
            "Target:\n",
            "[151.  75. 141.]\n"
          ]
        }
      ]
    },
    {
      "cell_type": "markdown",
      "source": [
        "#### default values:\n",
        "- return_X_y=False: returns a dictionary where you can access different elements of the dataset using the key.\n",
        "- as_frame=False: returns the data as numpy arrays.\n",
        "- scaled=True: feature variables are mean centered using standard deviation times square root of n_samples, in this case 442 rows/samples."
      ],
      "metadata": {
        "id": "d1bzlQnm156A"
      }
    },
    {
      "cell_type": "markdown",
      "source": [
        "## split the data into training and testing parts then train the regression model imported from sklearn"
      ],
      "metadata": {
        "id": "yRPaWKi8y6S8"
      }
    },
    {
      "cell_type": "code",
      "source": [
        "X_train, X_test, y_train, y_test = model_selection.train_test_split(X_portion, y, test_size=0.33) # train the model on 67% of the dataset and test it against 33% of the data.\n",
        "\n",
        "model = linear_model.LinearRegression() # import the Linear Regression model\n",
        "model.fit(X_train, y_train) # train the imported model\n",
        "\n",
        "y_pred = model.predict(X_test) # save the predictions of the trained model in 'y_pred'"
      ],
      "metadata": {
        "id": "YFi9Y-YlzO2g"
      },
      "execution_count": 3,
      "outputs": []
    },
    {
      "cell_type": "code",
      "source": [
        "print(len(y_pred))\n",
        "print(len(y_test))\n",
        "\n",
        "print(y_pred[:5])\n",
        "print(y_test[:5])"
      ],
      "metadata": {
        "colab": {
          "base_uri": "https://localhost:8080/"
        },
        "id": "OqzVcbyihr21",
        "outputId": "466a079b-3edf-4fb9-83ff-1249434fc47c"
      },
      "execution_count": 24,
      "outputs": [
        {
          "output_type": "stream",
          "name": "stdout",
          "text": [
            "146\n",
            "146\n",
            "[108.31381663  98.09752192 208.43350473 200.26046896  99.11915139]\n",
            "[102. 135. 215. 230.  42.]\n"
          ]
        }
      ]
    },
    {
      "cell_type": "markdown",
      "source": [
        "## plot the data for visualization"
      ],
      "metadata": {
        "id": "yNpuHAfH0OzR"
      }
    },
    {
      "cell_type": "code",
      "source": [
        "plt.scatter(X_test, y_test, color='black')\n",
        "plt.plot(X_test, y_pred, color='blue', linewidth=3)\n",
        "plt.xlabel('Scaled BMIs')\n",
        "plt.ylabel('Disease Progression')\n",
        "plt.title('A Graph Plot Showing Diabetes Progression Against BMI')\n",
        "plt.show()"
      ],
      "metadata": {
        "colab": {
          "base_uri": "https://localhost:8080/",
          "height": 472
        },
        "id": "_oZ17xs_0UYW",
        "outputId": "8201d5c4-3b26-4d66-85f9-3fe4d7a823ed"
      },
      "execution_count": 5,
      "outputs": [
        {
          "output_type": "display_data",
          "data": {
            "text/plain": [
              "<Figure size 640x480 with 1 Axes>"
            ],
            "image/png": "[encoded data removed]"
          },
          "metadata": {}
        }
      ]
    }
  ]
}